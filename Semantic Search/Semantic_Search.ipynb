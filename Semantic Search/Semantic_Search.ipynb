{
  "cells": [
    {
      "cell_type": "markdown",
      "metadata": {
        "id": "h2h1ZGtwqZaj"
      },
      "source": [
        "![picture](https://drive.google.com/uc?export=view&id=1o-hlq3Azv1TXGT_Vzm2z1fTZ-YVDkzgK)\n",
        "\n",
        "\n",
        "\n",
        "\n",
        "\n",
        "Follow Me on Social Media:\n",
        "\n",
        "[Github](https://github.com/mehdihosseinimoghadam)\n",
        "\n",
        "\n",
        "[Youtube](https://www.youtube.com/channel/UC5xj3R0Chnm6xbYSqCMkN5w)\n",
        "\n",
        "\n",
        "[Linkedin](https://www.linkedin.com/in/mehdi-hosseini-moghadam-384912198/?originalSubdomain=uk)\n",
        "\n",
        "\n",
        "\n",
        "\n",
        "\n",
        "\n"
      ]
    },
    {
      "cell_type": "markdown",
      "metadata": {
        "id": "fzJ77NM0zZGy"
      },
      "source": [
        "![picture](https://drive.google.com/uc?export=view&id=12LcnM-KGI0onzMHUxxtHS6j7SYch33rO)\n",
        "\n",
        "\n"
      ]
    },
    {
      "cell_type": "markdown",
      "metadata": {
        "id": "qBGmO9-uzb1x"
      },
      "source": [
        "\n",
        "![picture](https://drive.google.com/uc?export=view&id=1tq95nPl7K1NNlu19dTCL_2jvveHXy_-e)\n",
        "\n",
        "\n"
      ]
    },
    {
      "cell_type": "markdown",
      "metadata": {
        "id": "gM6sgJXvzfC_"
      },
      "source": [
        "\n",
        "![picture](https://drive.google.com/uc?export=view&id=1qGsBVcdhZejzvBPdHdrYYEo8AQQ9gdL_)\n",
        "\n"
      ]
    },
    {
      "cell_type": "code",
      "execution_count": 5,
      "metadata": {
        "id": "sYVg1t3WNaRo"
      },
      "outputs": [
        {
          "name": "stdout",
          "output_type": "stream",
          "text": [
            "Collecting sentence-transformers\n",
            "  Using cached sentence-transformers-2.2.2.tar.gz (85 kB)\n",
            "Collecting transformers<5.0.0,>=4.6.0\n",
            "  Downloading transformers-4.31.0-py3-none-any.whl (7.4 MB)\n",
            "\u001b[K     |████████████████████████████████| 7.4 MB 3.8 MB/s eta 0:00:01\n",
            "\u001b[?25hRequirement already satisfied: tqdm in /Users/mehdihm/opt/anaconda3/lib/python3.9/site-packages (from sentence-transformers) (4.60.0)\n",
            "Requirement already satisfied: torch>=1.6.0 in /Users/mehdihm/opt/anaconda3/lib/python3.9/site-packages (from sentence-transformers) (1.12.1)\n",
            "Requirement already satisfied: torchvision in /Users/mehdihm/opt/anaconda3/lib/python3.9/site-packages (from sentence-transformers) (0.13.1)\n",
            "Requirement already satisfied: numpy in /Users/mehdihm/opt/anaconda3/lib/python3.9/site-packages (from sentence-transformers) (1.20.2)\n",
            "Requirement already satisfied: scikit-learn in /Users/mehdihm/opt/anaconda3/lib/python3.9/site-packages (from sentence-transformers) (1.0.2)\n",
            "Requirement already satisfied: scipy in /Users/mehdihm/opt/anaconda3/lib/python3.9/site-packages (from sentence-transformers) (1.6.3)\n",
            "Requirement already satisfied: nltk in /Users/mehdihm/opt/anaconda3/lib/python3.9/site-packages (from sentence-transformers) (3.7)\n",
            "Collecting sentencepiece\n",
            "  Downloading sentencepiece-0.1.99-cp39-cp39-macosx_10_9_x86_64.whl (1.2 MB)\n",
            "\u001b[K     |████████████████████████████████| 1.2 MB 7.3 MB/s eta 0:00:01\n",
            "\u001b[?25hCollecting huggingface-hub>=0.4.0\n",
            "  Downloading huggingface_hub-0.16.4-py3-none-any.whl (268 kB)\n",
            "\u001b[K     |████████████████████████████████| 268 kB 7.9 MB/s eta 0:00:01\n",
            "\u001b[?25hRequirement already satisfied: filelock in /Users/mehdihm/opt/anaconda3/lib/python3.9/site-packages (from huggingface-hub>=0.4.0->sentence-transformers) (3.6.0)\n",
            "Requirement already satisfied: typing-extensions>=3.7.4.3 in /Users/mehdihm/opt/anaconda3/lib/python3.9/site-packages (from huggingface-hub>=0.4.0->sentence-transformers) (4.1.1)\n",
            "Requirement already satisfied: fsspec in /Users/mehdihm/opt/anaconda3/lib/python3.9/site-packages (from huggingface-hub>=0.4.0->sentence-transformers) (2022.2.0)\n",
            "Requirement already satisfied: packaging>=20.9 in /Users/mehdihm/opt/anaconda3/lib/python3.9/site-packages (from huggingface-hub>=0.4.0->sentence-transformers) (21.3)\n",
            "Requirement already satisfied: requests in /Users/mehdihm/opt/anaconda3/lib/python3.9/site-packages (from huggingface-hub>=0.4.0->sentence-transformers) (2.28.1)\n",
            "Requirement already satisfied: pyyaml>=5.1 in /Users/mehdihm/opt/anaconda3/lib/python3.9/site-packages (from huggingface-hub>=0.4.0->sentence-transformers) (6.0)\n",
            "Requirement already satisfied: pyparsing!=3.0.5,>=2.0.2 in /Users/mehdihm/opt/anaconda3/lib/python3.9/site-packages (from packaging>=20.9->huggingface-hub>=0.4.0->sentence-transformers) (3.0.4)\n",
            "Collecting tokenizers!=0.11.3,<0.14,>=0.11.1\n",
            "  Downloading tokenizers-0.13.3-cp39-cp39-macosx_10_11_x86_64.whl (4.0 MB)\n",
            "\u001b[K     |████████████████████████████████| 4.0 MB 8.9 MB/s eta 0:00:01\n",
            "\u001b[?25hRequirement already satisfied: regex!=2019.12.17 in /Users/mehdihm/opt/anaconda3/lib/python3.9/site-packages (from transformers<5.0.0,>=4.6.0->sentence-transformers) (2022.3.15)\n",
            "Collecting safetensors>=0.3.1\n",
            "  Downloading safetensors-0.3.1-cp39-cp39-macosx_10_11_x86_64.whl (400 kB)\n",
            "\u001b[K     |████████████████████████████████| 400 kB 8.9 MB/s eta 0:00:01\n",
            "\u001b[?25hRequirement already satisfied: joblib in /Users/mehdihm/opt/anaconda3/lib/python3.9/site-packages (from nltk->sentence-transformers) (1.1.0)\n",
            "Requirement already satisfied: click in /Users/mehdihm/opt/anaconda3/lib/python3.9/site-packages (from nltk->sentence-transformers) (7.1.2)\n",
            "Requirement already satisfied: idna<4,>=2.5 in /Users/mehdihm/opt/anaconda3/lib/python3.9/site-packages (from requests->huggingface-hub>=0.4.0->sentence-transformers) (3.3)\n",
            "Requirement already satisfied: charset-normalizer<3,>=2 in /Users/mehdihm/opt/anaconda3/lib/python3.9/site-packages (from requests->huggingface-hub>=0.4.0->sentence-transformers) (2.0.4)\n",
            "Requirement already satisfied: urllib3<1.27,>=1.21.1 in /Users/mehdihm/opt/anaconda3/lib/python3.9/site-packages (from requests->huggingface-hub>=0.4.0->sentence-transformers) (1.26.9)\n",
            "Requirement already satisfied: certifi>=2017.4.17 in /Users/mehdihm/opt/anaconda3/lib/python3.9/site-packages (from requests->huggingface-hub>=0.4.0->sentence-transformers) (2021.10.8)\n",
            "Requirement already satisfied: threadpoolctl>=2.0.0 in /Users/mehdihm/opt/anaconda3/lib/python3.9/site-packages (from scikit-learn->sentence-transformers) (2.2.0)\n",
            "Requirement already satisfied: pillow!=8.3.*,>=5.3.0 in /Users/mehdihm/opt/anaconda3/lib/python3.9/site-packages (from torchvision->sentence-transformers) (9.0.1)\n",
            "Building wheels for collected packages: sentence-transformers\n",
            "  Building wheel for sentence-transformers (setup.py) ... \u001b[?25ldone\n",
            "\u001b[?25h  Created wheel for sentence-transformers: filename=sentence_transformers-2.2.2-py3-none-any.whl size=125940 sha256=1e3ebdaa852c1dfc0be7ba5e086f1dc332a7d0d30bf2b83ad7425203eba2a137\n",
            "  Stored in directory: /Users/mehdihm/Library/Caches/pip/wheels/71/67/06/162a3760c40d74dd40bc855d527008d26341c2b0ecf3e8e11f\n",
            "Successfully built sentence-transformers\n",
            "Installing collected packages: tokenizers, safetensors, huggingface-hub, transformers, sentencepiece, sentence-transformers\n",
            "Successfully installed huggingface-hub-0.16.4 safetensors-0.3.1 sentence-transformers-2.2.2 sentencepiece-0.1.99 tokenizers-0.13.3 transformers-4.31.0\n",
            "Note: you may need to restart the kernel to use updated packages.\n"
          ]
        }
      ],
      "source": [
        "%pip install -U sentence-transformers"
      ]
    },
    {
      "cell_type": "code",
      "execution_count": 1,
      "metadata": {
        "id": "l4YzQM-HVQWo"
      },
      "outputs": [],
      "source": [
        "import pandas as pd\n",
        "\n",
        "\n",
        "df = pd.read_csv('article_titles.csv')\n",
        "paper_texts = df['Titles'].to_list()"
      ]
    },
    {
      "cell_type": "code",
      "execution_count": null,
      "metadata": {
        "id": "i4levWLvlrBm"
      },
      "outputs": [],
      "source": [
        "paper_texts[:5]"
      ]
    },
    {
      "cell_type": "code",
      "execution_count": null,
      "metadata": {
        "colab": {
          "base_uri": "https://localhost:8080/",
          "height": 84,
          "referenced_widgets": [
            "7ef412d6b9d74a4f9bdccbdc52c0f533",
            "d82c30d21107484f86e593f7046a3636",
            "1b31dc6d0a564454853e7addd0fc3e6c",
            "dd66f2dd19d343d1b1777765cc8973d4",
            "381941d4a1cb44ac8804936e317c31e4",
            "c5443f52d44d417cb1e06b465f435842",
            "fe3464f37dfc4c068331e1c7431e4bc3",
            "642562f86f7c4596883f7bb96f278821",
            "0983f3eb7c274ad28233d8b9d62f8068",
            "fe3c26268000453bb3d82cd9976db288",
            "2a6a5aa8902b4253865062a6ded6d201"
          ]
        },
        "id": "c5vQNS7TMgyK",
        "outputId": "50a3df52-e87b-4cdd-cc32-8785b8d86849"
      },
      "outputs": [],
      "source": [
        "from sentence_transformers import SentenceTransformer, util\n",
        "import os\n",
        "import csv\n",
        "import time\n",
        "import torch\n",
        "\n",
        "if not torch.cuda.is_available():\n",
        "  print(\"Warning: No GPU detected. Processing will be slow. Please add a GPU to this notebook\")\n",
        "\n",
        "model = SentenceTransformer('LaBSE')\n",
        "\n",
        "\n",
        "print(\"Encode the corpus. This might take a while\")\n",
        "corpus_embeddings = model.encode(paper_texts[:200], show_progress_bar=True, convert_to_tensor=True)\n",
        "\n",
        "\n",
        "\n",
        "###############################\n",
        "print(\"Corpus loaded with {} sentences / embeddings\".format(len(paper_texts[:200])))\n",
        "\n"
      ]
    },
    {
      "cell_type": "code",
      "execution_count": 4,
      "metadata": {
        "id": "XyXasS6wQ4TT"
      },
      "outputs": [],
      "source": [
        "# Function that searches the corpus and prints the results\n",
        "def search(inp_question):\n",
        "    start_time = time.time()\n",
        "    question_embedding = model.encode(inp_question, convert_to_tensor=True)\n",
        "    hits = util.semantic_search(question_embedding, corpus_embeddings)\n",
        "    end_time = time.time()\n",
        "    hits = hits[0]  #Get the hits for the first query\n",
        "\n",
        "    print(\"Input question:\", inp_question)\n",
        "    print(\"Results (after {:.3f} seconds):\".format(end_time-start_time))\n",
        "    for hit in hits[0:10]:\n",
        "        print(\"\\t{:.3f}\\t{}\".format(hit['score'], paper_texts[hit['corpus_id']]))\n",
        "\n"
      ]
    },
    {
      "cell_type": "code",
      "execution_count": 5,
      "metadata": {
        "colab": {
          "base_uri": "https://localhost:8080/"
        },
        "id": "KwNIwu5bQ41t",
        "outputId": "589a5855-0f93-4fac-87d2-7552177508de"
      },
      "outputs": [
        {
          "name": "stdout",
          "output_type": "stream",
          "text": [
            "Input question: What is the effect of Vitanim D on covid 19?\n",
            "Results (after 0.444 seconds):\n",
            "\t0.679\tFrequency of COVID-19 Infection as a Function of Vitamin D Levels.\n",
            "\t0.668\tAssociation between vitamin D hypovitaminosis and severe forms of COVID-19.\n",
            "\t0.640\tThe relationship between vitamin D deficiency and mortality in older adults before and during COVID-19 pandemic.\n",
            "\t0.604\tVitamin D deficiency is Associated with Increased Risk of Delirium and Mortality among Critically Ill, Elderly Covid-19 Patients.\n",
            "\t0.594\tRole of Therapeutic Anticoagulation in COVID-19: The Current Situation.\n",
            "\t0.587\tCan the COVID-19 Vaccine Cause Recrudescence of Herpes Zoster Virus While Taking Antiviral Medication?\n",
            "\t0.575\tTelemedicine for diabetes management during COVID-19: what we have learnt, what and how to implement.\n",
            "\t0.557\tEvaluation of In Vitro and In Vivo Antiviral Activities of Vitamin D for SARS-CoV-2 and Variants.\n",
            "\t0.557\tImpact of COVID-19 Infection on the Clinical Outcomes of Pulmonary Embolism Hospitalizations : A Nationwide Analysis.\n",
            "\t0.556\tProspect of potential intrauterine programming impacts associated with COVID-19.\n"
          ]
        }
      ],
      "source": [
        "search(\"What is the effect of Vitanim D on covid 19?\")"
      ]
    },
    {
      "cell_type": "code",
      "execution_count": 114,
      "metadata": {
        "colab": {
          "base_uri": "https://localhost:8080/"
        },
        "id": "yXkOkj9wQ9KP",
        "outputId": "fcc97fa1-bec9-4f16-b96c-dbd414e1a74d"
      },
      "outputs": [
        {
          "name": "stdout",
          "output_type": "stream",
          "text": [
            "Input question: Welche Wirkung hat Vitamin D auf Covid-19?\n",
            "Results (after 0.031 seconds):\n",
            "\t0.820\tCould vitamin D supplementation play a role against COVID-19?\n",
            "\t0.795\tVitamin D for COVID-19: where are we now?\n",
            "\t0.785\tEffect of Vitamin D Concentration on Course of COVID-19.\n",
            "\t0.780\tEffects of Vitamin D on Risks and Severity of COVID-19 Infection.\n",
            "\t0.754\tEffects of vitamin D in patients with COVID-19 according to associated comorbidity.\n",
            "\t0.751\tVitamin D and COVID-19-Revisited.\n",
            "\t0.746\tDoes vitamin D level have an effect on COVID-19 positivity and COVID-19 related mortality? A retrospective study.\n",
            "\t0.741\tThe Effects of Vitamin D Supplementation in COVID-19 Patients: A Systematic Review.\n",
            "\t0.737\tProtective role of vitamin D status against COVID-19: a mini-review.\n",
            "\t0.735\tVitamin D and Immune System Function in Patients with COVID-19.\n"
          ]
        }
      ],
      "source": [
        "search(\"Welche Wirkung hat Vitamin D auf Covid-19?\")"
      ]
    },
    {
      "cell_type": "code",
      "execution_count": 123,
      "metadata": {
        "colab": {
          "base_uri": "https://localhost:8080/"
        },
        "id": "S8-svFzQSmsb",
        "outputId": "7d2b43c9-c77a-4647-da70-5aa22fd505ba"
      },
      "outputs": [
        {
          "name": "stdout",
          "output_type": "stream",
          "text": [
            "Input question: تاثیر ویتامین دی بر بیماری کووید چیست؟\n",
            "Results (after 0.030 seconds):\n",
            "\t0.771\tDoes Vitamin D Have a Role in Diabetes?\n",
            "\t0.755\tEffect of Vitamin D\n",
            "\t0.755\tThe effect of vitamin D\n",
            "\t0.752\tEffect of vitamin D\n",
            "\t0.743\tEffects of Vitamin D\n",
            "\t0.729\tDry Eye Disease: What Is the Role of Vitamin D?\n",
            "\t0.712\tImpact of daily vitamin D\n",
            "\t0.702\tIs There a Role of Vitamin D in Alzheimer's disease?\n",
            "\t0.701\tImpact of cooking on vitamin D\n",
            "\t0.701\tThe effect of vitamin D deficiency on Inflammatory disorders.\n"
          ]
        }
      ],
      "source": [
        "search(\"تاثیر ویتامین دی بر بیماری کووید چیست؟\")"
      ]
    },
    {
      "cell_type": "code",
      "execution_count": 124,
      "metadata": {
        "colab": {
          "base_uri": "https://localhost:8080/"
        },
        "id": "UT9T9C-3nm26",
        "outputId": "b0451133-5703-4fbe-e68f-1537a30bc00d"
      },
      "outputs": [
        {
          "name": "stdout",
          "output_type": "stream",
          "text": [
            "Input question: विटामिन डी का कोविड 19 पर क्या प्रभाव पड़ता है?\n",
            "Results (after 0.028 seconds):\n",
            "\t0.786\tCould vitamin D supplementation play a role against COVID-19?\n",
            "\t0.732\tEffects of Vitamin D on Risks and Severity of COVID-19 Infection.\n",
            "\t0.731\tEffect of Vitamin D Concentration on Course of COVID-19.\n",
            "\t0.727\tDoes Vitamin D Have a Role in Diabetes?\n",
            "\t0.705\tEffect of Vitamin D\n",
            "\t0.704\t[Does supplemental vitamin D help with respiratory infections and Covid-19?].\n",
            "\t0.702\tEffects of Vitamin D\n",
            "\t0.700\tVitamin D for COVID-19: where are we now?\n",
            "\t0.699\tEffect of vitamin D\n",
            "\t0.693\tThe effect of vitamin D\n"
          ]
        }
      ],
      "source": [
        "search(\"विटामिन डी का कोविड 19 पर क्या प्रभाव पड़ता है?\")"
      ]
    },
    {
      "cell_type": "code",
      "execution_count": 7,
      "metadata": {
        "id": "fbo2EB8fnzzE"
      },
      "outputs": [],
      "source": [
        "corpus_embeddings1 = torch.load('corpus_embeddings.pt', map_location=torch.device('cpu'))"
      ]
    },
    {
      "cell_type": "code",
      "execution_count": 9,
      "metadata": {},
      "outputs": [],
      "source": [
        "# Function that searches the corpus and prints the results\n",
        "def search1(inp_question):\n",
        "    start_time = time.time()\n",
        "    question_embedding = model.encode(inp_question, convert_to_tensor=True)\n",
        "    hits = util.semantic_search(question_embedding, corpus_embeddings1)\n",
        "    end_time = time.time()\n",
        "    hits = hits[0]  #Get the hits for the first query\n",
        "\n",
        "    print(\"Input question:\", inp_question)\n",
        "    print(\"Results (after {:.3f} seconds):\".format(end_time-start_time))\n",
        "    for hit in hits[0:10]:\n",
        "        print(\"\\t{:.3f}\\t{}\".format(hit['score'], paper_texts[hit['corpus_id']]))\n",
        "\n"
      ]
    },
    {
      "cell_type": "code",
      "execution_count": 10,
      "metadata": {},
      "outputs": [
        {
          "name": "stdout",
          "output_type": "stream",
          "text": [
            "Input question: What is the effect of Vitanim D on covid 19?\n",
            "Results (after 0.525 seconds):\n",
            "\t0.779\tEffect of Vitamin D Concentration on Course of COVID-19.\n",
            "\t0.778\tCould vitamin D supplementation play a role against COVID-19?\n",
            "\t0.768\tEffects of Vitamin D on Risks and Severity of COVID-19 Infection.\n",
            "\t0.761\tVitamin D for COVID-19: where are we now?\n",
            "\t0.758\tThe Effects of Vitamin D Supplementation in COVID-19 Patients: A Systematic Review.\n",
            "\t0.747\tEffects of vitamin D in patients with COVID-19 according to associated comorbidity.\n",
            "\t0.735\tVitamin D and Immune System Function in Patients with COVID-19.\n",
            "\t0.734\tDoes vitamin D level have an effect on COVID-19 positivity and COVID-19 related mortality? A retrospective study.\n",
            "\t0.734\tPotential Benefit of Vitamin D Supplementation in COVID-19.\n",
            "\t0.723\tEffect of vitamin D supplementation on COVID-19 patients: A systematic review and meta-analysis.\n"
          ]
        }
      ],
      "source": [
        "search1(\"What is the effect of Vitanim D on covid 19?\")"
      ]
    },
    {
      "cell_type": "code",
      "execution_count": 11,
      "metadata": {},
      "outputs": [
        {
          "name": "stdout",
          "output_type": "stream",
          "text": [
            "Input question: تاثیر ویتامین دی بر بیماری کووید چیست؟\n",
            "Results (after 0.280 seconds):\n",
            "\t0.571\tEvaluation of In Vitro and In Vivo Antiviral Activities of Vitamin D for SARS-CoV-2 and Variants.\n",
            "\t0.561\tEffect of DHCR7 for the co-occurrence of hypercholesterolemia and vitamin D deficiency in type 2 diabetes: Perspective of health prevention.\n",
            "\t0.558\tFrequency of COVID-19 Infection as a Function of Vitamin D Levels.\n",
            "\t0.547\tAssociation between vitamin D hypovitaminosis and severe forms of COVID-19.\n",
            "\t0.537\tThe Role of Vitamin D on the Wound Healing Process: A Case Series.\n",
            "\t0.536\tVitamin D status in ANCA-associated vasculitis.\n",
            "\t0.532\tThe relationship between vitamin D deficiency and mortality in older adults before and during COVID-19 pandemic.\n",
            "\t0.527\tVitamin D deficiency is Associated with Increased Risk of Delirium and Mortality among Critically Ill, Elderly Covid-19 Patients.\n",
            "\t0.524\tThe effect of vitamin D on neurocognitive functions in older vitamin D deficient adults: a pilot longitudinal interventional study.\n",
            "\t0.493\tVitamin D status and risk of rheumatoid arthritis: systematic review and meta-analysis.\n"
          ]
        }
      ],
      "source": [
        "search(\"تاثیر ویتامین دی بر بیماری کووید چیست؟\")"
      ]
    },
    {
      "cell_type": "code",
      "execution_count": 12,
      "metadata": {},
      "outputs": [
        {
          "name": "stdout",
          "output_type": "stream",
          "text": [
            "Input question: विटामिन डी का कोविड 19 पर क्या प्रभाव पड़ता है?\n",
            "Results (after 0.161 seconds):\n",
            "\t0.627\tAssociation between vitamin D hypovitaminosis and severe forms of COVID-19.\n",
            "\t0.621\tFrequency of COVID-19 Infection as a Function of Vitamin D Levels.\n",
            "\t0.610\tVitamin D deficiency is Associated with Increased Risk of Delirium and Mortality among Critically Ill, Elderly Covid-19 Patients.\n",
            "\t0.589\tThe relationship between vitamin D deficiency and mortality in older adults before and during COVID-19 pandemic.\n",
            "\t0.559\tEffect of DHCR7 for the co-occurrence of hypercholesterolemia and vitamin D deficiency in type 2 diabetes: Perspective of health prevention.\n",
            "\t0.545\tEvaluation of In Vitro and In Vivo Antiviral Activities of Vitamin D for SARS-CoV-2 and Variants.\n",
            "\t0.537\tHow does the work-life balance impact stress on primary healthcare workers during the COVID-19 pandemic?\n",
            "\t0.529\tCan the COVID-19 Vaccine Cause Recrudescence of Herpes Zoster Virus While Taking Antiviral Medication?\n",
            "\t0.523\tProspect of potential intrauterine programming impacts associated with COVID-19.\n",
            "\t0.521\tThe Role of Vitamin D on the Wound Healing Process: A Case Series.\n"
          ]
        }
      ],
      "source": [
        "search(\"विटामिन डी का कोविड 19 पर क्या प्रभाव पड़ता है?\")"
      ]
    },
    {
      "cell_type": "code",
      "execution_count": null,
      "metadata": {},
      "outputs": [],
      "source": []
    }
  ],
  "metadata": {
    "accelerator": "GPU",
    "colab": {
      "gpuType": "T4",
      "provenance": []
    },
    "kernelspec": {
      "display_name": "Python 3",
      "name": "python3"
    },
    "language_info": {
      "codemirror_mode": {
        "name": "ipython",
        "version": 3
      },
      "file_extension": ".py",
      "mimetype": "text/x-python",
      "name": "python",
      "nbconvert_exporter": "python",
      "pygments_lexer": "ipython3",
      "version": "3.9.12"
    },
    "widgets": {
      "application/vnd.jupyter.widget-state+json": {
        "0983f3eb7c274ad28233d8b9d62f8068": {
          "model_module": "@jupyter-widgets/controls",
          "model_module_version": "1.5.0",
          "model_name": "ProgressStyleModel",
          "state": {
            "_model_module": "@jupyter-widgets/controls",
            "_model_module_version": "1.5.0",
            "_model_name": "ProgressStyleModel",
            "_view_count": null,
            "_view_module": "@jupyter-widgets/base",
            "_view_module_version": "1.2.0",
            "_view_name": "StyleView",
            "bar_color": null,
            "description_width": ""
          }
        },
        "1b31dc6d0a564454853e7addd0fc3e6c": {
          "model_module": "@jupyter-widgets/controls",
          "model_module_version": "1.5.0",
          "model_name": "FloatProgressModel",
          "state": {
            "_dom_classes": [],
            "_model_module": "@jupyter-widgets/controls",
            "_model_module_version": "1.5.0",
            "_model_name": "FloatProgressModel",
            "_view_count": null,
            "_view_module": "@jupyter-widgets/controls",
            "_view_module_version": "1.5.0",
            "_view_name": "ProgressView",
            "bar_style": "success",
            "description": "",
            "description_tooltip": null,
            "layout": "IPY_MODEL_642562f86f7c4596883f7bb96f278821",
            "max": 3600,
            "min": 0,
            "orientation": "horizontal",
            "style": "IPY_MODEL_0983f3eb7c274ad28233d8b9d62f8068",
            "value": 3600
          }
        },
        "2a6a5aa8902b4253865062a6ded6d201": {
          "model_module": "@jupyter-widgets/controls",
          "model_module_version": "1.5.0",
          "model_name": "DescriptionStyleModel",
          "state": {
            "_model_module": "@jupyter-widgets/controls",
            "_model_module_version": "1.5.0",
            "_model_name": "DescriptionStyleModel",
            "_view_count": null,
            "_view_module": "@jupyter-widgets/base",
            "_view_module_version": "1.2.0",
            "_view_name": "StyleView",
            "description_width": ""
          }
        },
        "381941d4a1cb44ac8804936e317c31e4": {
          "model_module": "@jupyter-widgets/base",
          "model_module_version": "1.2.0",
          "model_name": "LayoutModel",
          "state": {
            "_model_module": "@jupyter-widgets/base",
            "_model_module_version": "1.2.0",
            "_model_name": "LayoutModel",
            "_view_count": null,
            "_view_module": "@jupyter-widgets/base",
            "_view_module_version": "1.2.0",
            "_view_name": "LayoutView",
            "align_content": null,
            "align_items": null,
            "align_self": null,
            "border": null,
            "bottom": null,
            "display": null,
            "flex": null,
            "flex_flow": null,
            "grid_area": null,
            "grid_auto_columns": null,
            "grid_auto_flow": null,
            "grid_auto_rows": null,
            "grid_column": null,
            "grid_gap": null,
            "grid_row": null,
            "grid_template_areas": null,
            "grid_template_columns": null,
            "grid_template_rows": null,
            "height": null,
            "justify_content": null,
            "justify_items": null,
            "left": null,
            "margin": null,
            "max_height": null,
            "max_width": null,
            "min_height": null,
            "min_width": null,
            "object_fit": null,
            "object_position": null,
            "order": null,
            "overflow": null,
            "overflow_x": null,
            "overflow_y": null,
            "padding": null,
            "right": null,
            "top": null,
            "visibility": null,
            "width": null
          }
        },
        "642562f86f7c4596883f7bb96f278821": {
          "model_module": "@jupyter-widgets/base",
          "model_module_version": "1.2.0",
          "model_name": "LayoutModel",
          "state": {
            "_model_module": "@jupyter-widgets/base",
            "_model_module_version": "1.2.0",
            "_model_name": "LayoutModel",
            "_view_count": null,
            "_view_module": "@jupyter-widgets/base",
            "_view_module_version": "1.2.0",
            "_view_name": "LayoutView",
            "align_content": null,
            "align_items": null,
            "align_self": null,
            "border": null,
            "bottom": null,
            "display": null,
            "flex": null,
            "flex_flow": null,
            "grid_area": null,
            "grid_auto_columns": null,
            "grid_auto_flow": null,
            "grid_auto_rows": null,
            "grid_column": null,
            "grid_gap": null,
            "grid_row": null,
            "grid_template_areas": null,
            "grid_template_columns": null,
            "grid_template_rows": null,
            "height": null,
            "justify_content": null,
            "justify_items": null,
            "left": null,
            "margin": null,
            "max_height": null,
            "max_width": null,
            "min_height": null,
            "min_width": null,
            "object_fit": null,
            "object_position": null,
            "order": null,
            "overflow": null,
            "overflow_x": null,
            "overflow_y": null,
            "padding": null,
            "right": null,
            "top": null,
            "visibility": null,
            "width": null
          }
        },
        "7ef412d6b9d74a4f9bdccbdc52c0f533": {
          "model_module": "@jupyter-widgets/controls",
          "model_module_version": "1.5.0",
          "model_name": "HBoxModel",
          "state": {
            "_dom_classes": [],
            "_model_module": "@jupyter-widgets/controls",
            "_model_module_version": "1.5.0",
            "_model_name": "HBoxModel",
            "_view_count": null,
            "_view_module": "@jupyter-widgets/controls",
            "_view_module_version": "1.5.0",
            "_view_name": "HBoxView",
            "box_style": "",
            "children": [
              "IPY_MODEL_d82c30d21107484f86e593f7046a3636",
              "IPY_MODEL_1b31dc6d0a564454853e7addd0fc3e6c",
              "IPY_MODEL_dd66f2dd19d343d1b1777765cc8973d4"
            ],
            "layout": "IPY_MODEL_381941d4a1cb44ac8804936e317c31e4"
          }
        },
        "c5443f52d44d417cb1e06b465f435842": {
          "model_module": "@jupyter-widgets/base",
          "model_module_version": "1.2.0",
          "model_name": "LayoutModel",
          "state": {
            "_model_module": "@jupyter-widgets/base",
            "_model_module_version": "1.2.0",
            "_model_name": "LayoutModel",
            "_view_count": null,
            "_view_module": "@jupyter-widgets/base",
            "_view_module_version": "1.2.0",
            "_view_name": "LayoutView",
            "align_content": null,
            "align_items": null,
            "align_self": null,
            "border": null,
            "bottom": null,
            "display": null,
            "flex": null,
            "flex_flow": null,
            "grid_area": null,
            "grid_auto_columns": null,
            "grid_auto_flow": null,
            "grid_auto_rows": null,
            "grid_column": null,
            "grid_gap": null,
            "grid_row": null,
            "grid_template_areas": null,
            "grid_template_columns": null,
            "grid_template_rows": null,
            "height": null,
            "justify_content": null,
            "justify_items": null,
            "left": null,
            "margin": null,
            "max_height": null,
            "max_width": null,
            "min_height": null,
            "min_width": null,
            "object_fit": null,
            "object_position": null,
            "order": null,
            "overflow": null,
            "overflow_x": null,
            "overflow_y": null,
            "padding": null,
            "right": null,
            "top": null,
            "visibility": null,
            "width": null
          }
        },
        "d82c30d21107484f86e593f7046a3636": {
          "model_module": "@jupyter-widgets/controls",
          "model_module_version": "1.5.0",
          "model_name": "HTMLModel",
          "state": {
            "_dom_classes": [],
            "_model_module": "@jupyter-widgets/controls",
            "_model_module_version": "1.5.0",
            "_model_name": "HTMLModel",
            "_view_count": null,
            "_view_module": "@jupyter-widgets/controls",
            "_view_module_version": "1.5.0",
            "_view_name": "HTMLView",
            "description": "",
            "description_tooltip": null,
            "layout": "IPY_MODEL_c5443f52d44d417cb1e06b465f435842",
            "placeholder": "​",
            "style": "IPY_MODEL_fe3464f37dfc4c068331e1c7431e4bc3",
            "value": "Batches: 100%"
          }
        },
        "dd66f2dd19d343d1b1777765cc8973d4": {
          "model_module": "@jupyter-widgets/controls",
          "model_module_version": "1.5.0",
          "model_name": "HTMLModel",
          "state": {
            "_dom_classes": [],
            "_model_module": "@jupyter-widgets/controls",
            "_model_module_version": "1.5.0",
            "_model_name": "HTMLModel",
            "_view_count": null,
            "_view_module": "@jupyter-widgets/controls",
            "_view_module_version": "1.5.0",
            "_view_name": "HTMLView",
            "description": "",
            "description_tooltip": null,
            "layout": "IPY_MODEL_fe3c26268000453bb3d82cd9976db288",
            "placeholder": "​",
            "style": "IPY_MODEL_2a6a5aa8902b4253865062a6ded6d201",
            "value": " 3600/3600 [03:42&lt;00:00, 51.65it/s]"
          }
        },
        "fe3464f37dfc4c068331e1c7431e4bc3": {
          "model_module": "@jupyter-widgets/controls",
          "model_module_version": "1.5.0",
          "model_name": "DescriptionStyleModel",
          "state": {
            "_model_module": "@jupyter-widgets/controls",
            "_model_module_version": "1.5.0",
            "_model_name": "DescriptionStyleModel",
            "_view_count": null,
            "_view_module": "@jupyter-widgets/base",
            "_view_module_version": "1.2.0",
            "_view_name": "StyleView",
            "description_width": ""
          }
        },
        "fe3c26268000453bb3d82cd9976db288": {
          "model_module": "@jupyter-widgets/base",
          "model_module_version": "1.2.0",
          "model_name": "LayoutModel",
          "state": {
            "_model_module": "@jupyter-widgets/base",
            "_model_module_version": "1.2.0",
            "_model_name": "LayoutModel",
            "_view_count": null,
            "_view_module": "@jupyter-widgets/base",
            "_view_module_version": "1.2.0",
            "_view_name": "LayoutView",
            "align_content": null,
            "align_items": null,
            "align_self": null,
            "border": null,
            "bottom": null,
            "display": null,
            "flex": null,
            "flex_flow": null,
            "grid_area": null,
            "grid_auto_columns": null,
            "grid_auto_flow": null,
            "grid_auto_rows": null,
            "grid_column": null,
            "grid_gap": null,
            "grid_row": null,
            "grid_template_areas": null,
            "grid_template_columns": null,
            "grid_template_rows": null,
            "height": null,
            "justify_content": null,
            "justify_items": null,
            "left": null,
            "margin": null,
            "max_height": null,
            "max_width": null,
            "min_height": null,
            "min_width": null,
            "object_fit": null,
            "object_position": null,
            "order": null,
            "overflow": null,
            "overflow_x": null,
            "overflow_y": null,
            "padding": null,
            "right": null,
            "top": null,
            "visibility": null,
            "width": null
          }
        }
      }
    }
  },
  "nbformat": 4,
  "nbformat_minor": 0
}
